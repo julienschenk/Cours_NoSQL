{
 "cells": [
  {
   "cell_type": "markdown",
   "id": "049004df-3afb-49f9-a613-742bfa97a862",
   "metadata": {},
   "source": [
    "# Exercices Chapitre 1"
   ]
  },
  {
   "cell_type": "markdown",
   "id": "abdf1acf-7aa7-43a2-a759-52f12a328b19",
   "metadata": {},
   "source": [
    "## SQLite"
   ]
  },
  {
   "cell_type": "markdown",
   "id": "1e7d932e-9cab-4f41-930b-41862e5a45a9",
   "metadata": {},
   "source": [
    "### 1) Read all the data from bc.csv, how many rows is there ? Columns ? "
   ]
  },
  {
   "cell_type": "code",
   "execution_count": 3,
   "id": "0747b8e0-10d6-4819-a865-4c804ed7708b",
   "metadata": {},
   "outputs": [
    {
     "name": "stdout",
     "output_type": "stream",
     "text": [
      "Il y a 33 colonnes et 569 lignes\n"
     ]
    },
    {
     "data": {
      "text/html": [
       "<div>\n",
       "<style scoped>\n",
       "    .dataframe tbody tr th:only-of-type {\n",
       "        vertical-align: middle;\n",
       "    }\n",
       "\n",
       "    .dataframe tbody tr th {\n",
       "        vertical-align: top;\n",
       "    }\n",
       "\n",
       "    .dataframe thead th {\n",
       "        text-align: right;\n",
       "    }\n",
       "</style>\n",
       "<table border=\"1\" class=\"dataframe\">\n",
       "  <thead>\n",
       "    <tr style=\"text-align: right;\">\n",
       "      <th></th>\n",
       "      <th>id</th>\n",
       "      <th>diagnosis</th>\n",
       "      <th>radius_mean</th>\n",
       "      <th>texture_mean</th>\n",
       "      <th>perimeter_mean</th>\n",
       "      <th>area_mean</th>\n",
       "      <th>smoothness_mean</th>\n",
       "      <th>compactness_mean</th>\n",
       "      <th>concavity_mean</th>\n",
       "      <th>concave points_mean</th>\n",
       "      <th>...</th>\n",
       "      <th>texture_worst</th>\n",
       "      <th>perimeter_worst</th>\n",
       "      <th>area_worst</th>\n",
       "      <th>smoothness_worst</th>\n",
       "      <th>compactness_worst</th>\n",
       "      <th>concavity_worst</th>\n",
       "      <th>concave points_worst</th>\n",
       "      <th>symmetry_worst</th>\n",
       "      <th>fractal_dimension_worst</th>\n",
       "      <th>Unnamed: 32</th>\n",
       "    </tr>\n",
       "  </thead>\n",
       "  <tbody>\n",
       "    <tr>\n",
       "      <th>0</th>\n",
       "      <td>842302</td>\n",
       "      <td>M</td>\n",
       "      <td>17.99</td>\n",
       "      <td>10.38</td>\n",
       "      <td>122.80</td>\n",
       "      <td>1001.0</td>\n",
       "      <td>0.11840</td>\n",
       "      <td>0.27760</td>\n",
       "      <td>0.3001</td>\n",
       "      <td>0.14710</td>\n",
       "      <td>...</td>\n",
       "      <td>17.33</td>\n",
       "      <td>184.60</td>\n",
       "      <td>2019.0</td>\n",
       "      <td>0.1622</td>\n",
       "      <td>0.6656</td>\n",
       "      <td>0.7119</td>\n",
       "      <td>0.2654</td>\n",
       "      <td>0.4601</td>\n",
       "      <td>0.11890</td>\n",
       "      <td>NaN</td>\n",
       "    </tr>\n",
       "    <tr>\n",
       "      <th>1</th>\n",
       "      <td>842517</td>\n",
       "      <td>M</td>\n",
       "      <td>20.57</td>\n",
       "      <td>17.77</td>\n",
       "      <td>132.90</td>\n",
       "      <td>1326.0</td>\n",
       "      <td>0.08474</td>\n",
       "      <td>0.07864</td>\n",
       "      <td>0.0869</td>\n",
       "      <td>0.07017</td>\n",
       "      <td>...</td>\n",
       "      <td>23.41</td>\n",
       "      <td>158.80</td>\n",
       "      <td>1956.0</td>\n",
       "      <td>0.1238</td>\n",
       "      <td>0.1866</td>\n",
       "      <td>0.2416</td>\n",
       "      <td>0.1860</td>\n",
       "      <td>0.2750</td>\n",
       "      <td>0.08902</td>\n",
       "      <td>NaN</td>\n",
       "    </tr>\n",
       "    <tr>\n",
       "      <th>2</th>\n",
       "      <td>84300903</td>\n",
       "      <td>M</td>\n",
       "      <td>19.69</td>\n",
       "      <td>21.25</td>\n",
       "      <td>130.00</td>\n",
       "      <td>1203.0</td>\n",
       "      <td>0.10960</td>\n",
       "      <td>0.15990</td>\n",
       "      <td>0.1974</td>\n",
       "      <td>0.12790</td>\n",
       "      <td>...</td>\n",
       "      <td>25.53</td>\n",
       "      <td>152.50</td>\n",
       "      <td>1709.0</td>\n",
       "      <td>0.1444</td>\n",
       "      <td>0.4245</td>\n",
       "      <td>0.4504</td>\n",
       "      <td>0.2430</td>\n",
       "      <td>0.3613</td>\n",
       "      <td>0.08758</td>\n",
       "      <td>NaN</td>\n",
       "    </tr>\n",
       "    <tr>\n",
       "      <th>3</th>\n",
       "      <td>84348301</td>\n",
       "      <td>M</td>\n",
       "      <td>11.42</td>\n",
       "      <td>20.38</td>\n",
       "      <td>77.58</td>\n",
       "      <td>386.1</td>\n",
       "      <td>0.14250</td>\n",
       "      <td>0.28390</td>\n",
       "      <td>0.2414</td>\n",
       "      <td>0.10520</td>\n",
       "      <td>...</td>\n",
       "      <td>26.50</td>\n",
       "      <td>98.87</td>\n",
       "      <td>567.7</td>\n",
       "      <td>0.2098</td>\n",
       "      <td>0.8663</td>\n",
       "      <td>0.6869</td>\n",
       "      <td>0.2575</td>\n",
       "      <td>0.6638</td>\n",
       "      <td>0.17300</td>\n",
       "      <td>NaN</td>\n",
       "    </tr>\n",
       "    <tr>\n",
       "      <th>4</th>\n",
       "      <td>84358402</td>\n",
       "      <td>M</td>\n",
       "      <td>20.29</td>\n",
       "      <td>14.34</td>\n",
       "      <td>135.10</td>\n",
       "      <td>1297.0</td>\n",
       "      <td>0.10030</td>\n",
       "      <td>0.13280</td>\n",
       "      <td>0.1980</td>\n",
       "      <td>0.10430</td>\n",
       "      <td>...</td>\n",
       "      <td>16.67</td>\n",
       "      <td>152.20</td>\n",
       "      <td>1575.0</td>\n",
       "      <td>0.1374</td>\n",
       "      <td>0.2050</td>\n",
       "      <td>0.4000</td>\n",
       "      <td>0.1625</td>\n",
       "      <td>0.2364</td>\n",
       "      <td>0.07678</td>\n",
       "      <td>NaN</td>\n",
       "    </tr>\n",
       "  </tbody>\n",
       "</table>\n",
       "<p>5 rows × 33 columns</p>\n",
       "</div>"
      ],
      "text/plain": [
       "         id diagnosis  radius_mean  texture_mean  perimeter_mean  area_mean  \\\n",
       "0    842302         M        17.99         10.38          122.80     1001.0   \n",
       "1    842517         M        20.57         17.77          132.90     1326.0   \n",
       "2  84300903         M        19.69         21.25          130.00     1203.0   \n",
       "3  84348301         M        11.42         20.38           77.58      386.1   \n",
       "4  84358402         M        20.29         14.34          135.10     1297.0   \n",
       "\n",
       "   smoothness_mean  compactness_mean  concavity_mean  concave points_mean  \\\n",
       "0          0.11840           0.27760          0.3001              0.14710   \n",
       "1          0.08474           0.07864          0.0869              0.07017   \n",
       "2          0.10960           0.15990          0.1974              0.12790   \n",
       "3          0.14250           0.28390          0.2414              0.10520   \n",
       "4          0.10030           0.13280          0.1980              0.10430   \n",
       "\n",
       "   ...  texture_worst  perimeter_worst  area_worst  smoothness_worst  \\\n",
       "0  ...          17.33           184.60      2019.0            0.1622   \n",
       "1  ...          23.41           158.80      1956.0            0.1238   \n",
       "2  ...          25.53           152.50      1709.0            0.1444   \n",
       "3  ...          26.50            98.87       567.7            0.2098   \n",
       "4  ...          16.67           152.20      1575.0            0.1374   \n",
       "\n",
       "   compactness_worst  concavity_worst  concave points_worst  symmetry_worst  \\\n",
       "0             0.6656           0.7119                0.2654          0.4601   \n",
       "1             0.1866           0.2416                0.1860          0.2750   \n",
       "2             0.4245           0.4504                0.2430          0.3613   \n",
       "3             0.8663           0.6869                0.2575          0.6638   \n",
       "4             0.2050           0.4000                0.1625          0.2364   \n",
       "\n",
       "   fractal_dimension_worst  Unnamed: 32  \n",
       "0                  0.11890          NaN  \n",
       "1                  0.08902          NaN  \n",
       "2                  0.08758          NaN  \n",
       "3                  0.17300          NaN  \n",
       "4                  0.07678          NaN  \n",
       "\n",
       "[5 rows x 33 columns]"
      ]
     },
     "execution_count": 3,
     "metadata": {},
     "output_type": "execute_result"
    }
   ],
   "source": [
    "import pandas as pd\n",
    "data = pd.read_csv(\"C:\\\\Users\\\\Ju\\\\Desktop\\\\WIRTZ!\\\\bc.csv\")\n",
    "print(\"Il y a\", len(data.columns), \"colonnes et\", len(data), \"lignes\")\n",
    "data.head()"
   ]
  },
  {
   "cell_type": "markdown",
   "id": "fff2babb-c4f7-419f-901a-b7e801d06cc0",
   "metadata": {},
   "source": [
    "### 2) Insert the bc.csv in the sqlite format."
   ]
  },
  {
   "cell_type": "markdown",
   "id": "73333cd4-eb97-4fc3-86ce-e9db6efe7968",
   "metadata": {},
   "source": [
    "Importation depuis DBbrowser"
   ]
  },
  {
   "cell_type": "markdown",
   "id": "e9f65bcb-5a36-4147-aadb-2725381e46df",
   "metadata": {},
   "source": [
    "### 3) In the same db create a new table called tomatch with two variables id_ and rdm_float."
   ]
  },
  {
   "cell_type": "code",
   "execution_count": 2,
   "id": "b7b8b795-177e-44e1-9e16-bc356669628d",
   "metadata": {
    "tags": []
   },
   "outputs": [],
   "source": [
    "import sqlite3\n",
    "\n",
    "conn = sqlite3.connect(\"C:/Users/Ju/OneDrive/Documents/FSEG/M1/NoSQL/bc.db\")\n",
    "c = conn.cursor()\n",
    "c.execute(\"\"\"CREATE TABLE tomatch(id INT PRIMARY KEY, rdm_float FLOAT)\"\"\")\n",
    "conn.commit()\n",
    "c.close()"
   ]
  },
  {
   "cell_type": "markdown",
   "id": "e5ce30c0-c69a-4bf3-87f1-aaa1d9d1df56",
   "metadata": {
    "tags": []
   },
   "source": [
    "### 4) In the table tomatch insert observations where the id_ starts from 50k, ends at 10000000 and is only even numbers. rdm_float is a random float for each observation."
   ]
  },
  {
   "cell_type": "code",
   "execution_count": 3,
   "id": "896da0ca-34c1-41e3-8b41-5b29e4550a76",
   "metadata": {},
   "outputs": [
    {
     "name": "stderr",
     "output_type": "stream",
     "text": [
      "100%|██████████| 9950000/9950000 [00:59<00:00, 167620.50it/s]\n"
     ]
    }
   ],
   "source": [
    "import tqdm\n",
    "import random as rd\n",
    "c = conn.cursor()\n",
    "query = \"\"\"INSERT INTO tomatch(id, rdm_float) VALUES (?,?)\"\"\"\n",
    "\n",
    "list_of_insertion = []\n",
    "for i in tqdm.tqdm(range(50000,10000000,1)):\n",
    "    values = (i,rd.random())\n",
    "    list_of_insertion.append(values)\n",
    "    if len(list_of_insertion) == 10000:\n",
    "        c.executemany(query, list_of_insertion)\n",
    "        list_of_insertion = []\n",
    "conn.commit()\n",
    "c.close()"
   ]
  },
  {
   "cell_type": "markdown",
   "id": "cb57aa7d-c435-4659-b801-17c3a3553ede",
   "metadata": {},
   "source": [
    "### 5) Do an Inner join between the two tables and compute the different aggregate functions on a column of your choice."
   ]
  },
  {
   "cell_type": "code",
   "execution_count": 5,
   "id": "a6077c47-ff75-4c4b-a6a8-a94c95daccdb",
   "metadata": {},
   "outputs": [
    {
     "name": "stdout",
     "output_type": "stream",
     "text": [
      "Average Value: 14.010595041322313\n",
      "Count Value: 484\n",
      "Max Value: 28.11\n",
      "Min Value: 6.981\n"
     ]
    }
   ],
   "source": [
    "c = conn.cursor()\n",
    "c.execute(\"\"\"SELECT AVG(bc.radius_mean), COUNT(bc.radius_mean), MAX(bc.radius_mean), MIN(bc.radius_mean)\n",
    "             FROM bc \n",
    "             INNER JOIN tomatch ON bc.id = tomatch.id\"\"\")\n",
    "results = c.fetchone()\n",
    "print(f\"Average Value: {results[0]}\")\n",
    "print(f\"Count Value: {results[1]}\")\n",
    "print(f\"Max Value: {results[2]}\")\n",
    "print(f\"Min Value: {results[3]}\")\n",
    "c.close()"
   ]
  },
  {
   "cell_type": "markdown",
   "id": "526fbafb-8a90-4df3-b741-97c5718a7b11",
   "metadata": {},
   "source": [
    "### 6) How many observations have a radius_mean greater than 15 ? From them how many have a texture_mean greater than 20 ?"
   ]
  },
  {
   "cell_type": "code",
   "execution_count": 6,
   "id": "d4e62a2e-6b84-4021-9c40-b6da3ab3b09d",
   "metadata": {},
   "outputs": [
    {
     "name": "stdout",
     "output_type": "stream",
     "text": [
      "Observations with radius_mean greater than 15 : 173\n",
      "Observations with radius_mean greater than 15 and texture_mean greater thant 20 : 106\n"
     ]
    }
   ],
   "source": [
    "c = conn.cursor()\n",
    "c.execute(\"\"\"SELECT COUNT(*) FROM bc WHERE radius_mean > 15\"\"\")\n",
    "results = c.fetchone()\n",
    "print(f\"Observations with radius_mean greater than 15 : {results[0]}\")\n",
    "\n",
    "c.execute(\"\"\"SELECT COUNT(*) FROM bc WHERE radius_mean > 15 AND texture_mean > 20\"\"\")\n",
    "results = c.fetchone()\n",
    "print(f\"Observations with radius_mean greater than 15 and texture_mean greater thant 20 : {results[0]}\")\n",
    "c.close()"
   ]
  },
  {
   "cell_type": "markdown",
   "id": "85a428bb-657d-46cd-b4f0-43adb7e21ace",
   "metadata": {},
   "source": [
    "### 7) For each category in diagnosis do the mean of a variable and round it to get only 2 numbers after the comma. Compute the difference between the mean of both groups"
   ]
  },
  {
   "cell_type": "code",
   "execution_count": 11,
   "id": "008aad6d-8bc6-4e5b-bd82-fcd3afaca2f7",
   "metadata": {},
   "outputs": [
    {
     "name": "stdout",
     "output_type": "stream",
     "text": [
      "[('B', 12.15), ('M', 17.46)]\n",
      "5.31\n"
     ]
    }
   ],
   "source": [
    "c = conn.cursor()\n",
    "c.execute(\"\"\"SELECT diagnosis, ROUND(AVG(radius_mean),2) FROM bc GROUP BY diagnosis\"\"\")\n",
    "results = c.fetchall()\n",
    "print(results)\n",
    "print(round(results[1][1]-results[0][1],2))\n",
    "c.close()"
   ]
  },
  {
   "cell_type": "markdown",
   "id": "a566ef80-8182-467f-b707-b9183db9c9b4",
   "metadata": {},
   "source": [
    "### 8) Change the name of the column \"diagnosis\" to \"label\""
   ]
  },
  {
   "cell_type": "code",
   "execution_count": 12,
   "id": "8c26bcf9-401e-4b4a-ba9d-7820ce26e655",
   "metadata": {},
   "outputs": [],
   "source": [
    "c = conn.cursor()\n",
    "c.execute(\"\"\"ALTER TABLE bc RENAME COLUMN diagnosis TO label\"\"\")\n",
    "conn.commit()\n",
    "c.close()"
   ]
  },
  {
   "cell_type": "markdown",
   "id": "bf072e24-13c1-44fd-adde-ae913d5a43db",
   "metadata": {},
   "source": [
    "### 9) Add a column named \"day\" of type DATE."
   ]
  },
  {
   "cell_type": "code",
   "execution_count": 15,
   "id": "2de71050-9b38-409a-89c6-b591bb14348a",
   "metadata": {},
   "outputs": [],
   "source": [
    "c = conn.cursor()\n",
    "c.execute(\"\"\"ALTER TABLE bc ADD COLUMN day DATE\"\"\")\n",
    "conn.commit()\n",
    "c.close()"
   ]
  },
  {
   "cell_type": "markdown",
   "id": "43fb1169-9eeb-4593-b2bc-70795c4d9993",
   "metadata": {},
   "source": [
    "### 10) Change the type of the column \"area_mean\" to int (hint, not possible on sqlite, create a new column)"
   ]
  },
  {
   "cell_type": "code",
   "execution_count": 17,
   "id": "c1019f77-7ec3-4fd3-9977-4d192720c0e8",
   "metadata": {},
   "outputs": [],
   "source": [
    "c = conn.cursor()\n",
    "c.execute(\"\"\"ALTER TABLE bc\n",
    "             ADD COLUMN area_mean_int INTEGER\"\"\")\n",
    "c.execute(\"\"\"UPDATE bc\n",
    "             SET area_mean_int = CAST(area_mean AS INTEGER)\"\"\")\n",
    "conn.commit()\n",
    "c.close()"
   ]
  },
  {
   "cell_type": "markdown",
   "id": "492aa4b4-55d9-4012-9f9b-d9ad763ef680",
   "metadata": {},
   "source": [
    "### 11) create a new table called tomatch2 exactly the same way as tomatch except you increment id_ by 10."
   ]
  },
  {
   "cell_type": "code",
   "execution_count": 18,
   "id": "e93dceea-bcbe-460c-a919-5bb71d831346",
   "metadata": {},
   "outputs": [
    {
     "name": "stderr",
     "output_type": "stream",
     "text": [
      "100%|██████████| 995000/995000 [00:04<00:00, 207086.39it/s]\n"
     ]
    }
   ],
   "source": [
    "c = conn.cursor()\n",
    "\n",
    "c.execute(\"\"\"CREATE TABLE tomatch2(id INT PRIMARY KEY, rdm_float FLOAT)\"\"\")\n",
    "\n",
    "query = \"\"\"INSERT INTO tomatch2(id, rdm_float) VALUES (?,?)\"\"\"\n",
    "\n",
    "list_of_insertion = []\n",
    "for i in tqdm.tqdm(range(50000,10000000,10)):\n",
    "    values = (i,rd.random())\n",
    "    list_of_insertion.append(values)\n",
    "    if len(list_of_insertion) == 10000:\n",
    "        c.executemany(query, list_of_insertion)\n",
    "        list_of_insertion = []\n",
    "conn.commit()\n",
    "c.close()"
   ]
  },
  {
   "cell_type": "markdown",
   "id": "7f4365d8-ccdc-4526-a410-cbbd434657aa",
   "metadata": {},
   "source": [
    "### 12) Do an inner join of bc, tomatch and tomatch2 where the radius_mean is greater than 15, and the rdm_float is greater than 0.50 in tomatch AND tomatch2."
   ]
  },
  {
   "cell_type": "code",
   "execution_count": 21,
   "id": "a2223cc0-431b-477b-847b-cda51bab77fd",
   "metadata": {},
   "outputs": [],
   "source": [
    "c = conn.cursor()\n",
    "c.execute(\"\"\"SELECT * FROM bc\n",
    "             INNER JOIN tomatch ON bc.id = tomatch.id \n",
    "             INNER JOIN tomatch2 ON tomatch.id = tomatch2.id\n",
    "             where radius_mean > 15 AND tomatch.rdm_float > 0.5 AND tomatch2.rdm_float > 0.5\"\"\")\n",
    "c.close()"
   ]
  },
  {
   "cell_type": "markdown",
   "id": "6be24cad-bf5a-43ae-9144-965315824ca1",
   "metadata": {},
   "source": [
    "## MySQL"
   ]
  },
  {
   "cell_type": "markdown",
   "id": "715052c0-a944-4688-a9a0-165c8098ae6e",
   "metadata": {},
   "source": [
    "### 1) How many orders were placed in total"
   ]
  },
  {
   "cell_type": "code",
   "execution_count": 10,
   "id": "ae16d951-8003-4b41-8517-2f4f7fd421e6",
   "metadata": {},
   "outputs": [
    {
     "data": {
      "text/html": [
       "<div>\n",
       "<style scoped>\n",
       "    .dataframe tbody tr th:only-of-type {\n",
       "        vertical-align: middle;\n",
       "    }\n",
       "\n",
       "    .dataframe tbody tr th {\n",
       "        vertical-align: top;\n",
       "    }\n",
       "\n",
       "    .dataframe thead th {\n",
       "        text-align: right;\n",
       "    }\n",
       "</style>\n",
       "<table border=\"1\" class=\"dataframe\">\n",
       "  <thead>\n",
       "    <tr style=\"text-align: right;\">\n",
       "      <th></th>\n",
       "      <th>Row ID</th>\n",
       "      <th>Order Priority</th>\n",
       "      <th>Discount</th>\n",
       "      <th>Unit Price</th>\n",
       "      <th>Shipping Cost</th>\n",
       "      <th>Customer ID</th>\n",
       "      <th>Customer Name</th>\n",
       "      <th>Ship Mode</th>\n",
       "      <th>Customer Segment</th>\n",
       "      <th>Product Category</th>\n",
       "      <th>...</th>\n",
       "      <th>Region</th>\n",
       "      <th>State or Province</th>\n",
       "      <th>City</th>\n",
       "      <th>Postal Code</th>\n",
       "      <th>Order Date</th>\n",
       "      <th>Ship Date</th>\n",
       "      <th>Profit</th>\n",
       "      <th>Quantity ordered new</th>\n",
       "      <th>Sales</th>\n",
       "      <th>Order ID</th>\n",
       "    </tr>\n",
       "  </thead>\n",
       "  <tbody>\n",
       "    <tr>\n",
       "      <th>0</th>\n",
       "      <td>18606</td>\n",
       "      <td>Not Specified</td>\n",
       "      <td>0.01</td>\n",
       "      <td>2.88</td>\n",
       "      <td>0.50</td>\n",
       "      <td>2</td>\n",
       "      <td>Janice Fletcher</td>\n",
       "      <td>Regular Air</td>\n",
       "      <td>Corporate</td>\n",
       "      <td>Office Supplies</td>\n",
       "      <td>...</td>\n",
       "      <td>Central</td>\n",
       "      <td>Illinois</td>\n",
       "      <td>Addison</td>\n",
       "      <td>60101</td>\n",
       "      <td>5/28/2012</td>\n",
       "      <td>5/30/2012</td>\n",
       "      <td>1.3200</td>\n",
       "      <td>2</td>\n",
       "      <td>5.90</td>\n",
       "      <td>88525</td>\n",
       "    </tr>\n",
       "    <tr>\n",
       "      <th>1</th>\n",
       "      <td>20847</td>\n",
       "      <td>High</td>\n",
       "      <td>0.01</td>\n",
       "      <td>2.84</td>\n",
       "      <td>0.93</td>\n",
       "      <td>3</td>\n",
       "      <td>Bonnie Potter</td>\n",
       "      <td>Express Air</td>\n",
       "      <td>Corporate</td>\n",
       "      <td>Office Supplies</td>\n",
       "      <td>...</td>\n",
       "      <td>West</td>\n",
       "      <td>Washington</td>\n",
       "      <td>Anacortes</td>\n",
       "      <td>98221</td>\n",
       "      <td>7/7/2010</td>\n",
       "      <td>7/8/2010</td>\n",
       "      <td>4.5600</td>\n",
       "      <td>4</td>\n",
       "      <td>13.01</td>\n",
       "      <td>88522</td>\n",
       "    </tr>\n",
       "    <tr>\n",
       "      <th>2</th>\n",
       "      <td>23086</td>\n",
       "      <td>Not Specified</td>\n",
       "      <td>0.03</td>\n",
       "      <td>6.68</td>\n",
       "      <td>6.15</td>\n",
       "      <td>3</td>\n",
       "      <td>Bonnie Potter</td>\n",
       "      <td>Express Air</td>\n",
       "      <td>Corporate</td>\n",
       "      <td>Office Supplies</td>\n",
       "      <td>...</td>\n",
       "      <td>West</td>\n",
       "      <td>Washington</td>\n",
       "      <td>Anacortes</td>\n",
       "      <td>98221</td>\n",
       "      <td>7/27/2011</td>\n",
       "      <td>7/28/2011</td>\n",
       "      <td>-47.6400</td>\n",
       "      <td>7</td>\n",
       "      <td>49.92</td>\n",
       "      <td>88523</td>\n",
       "    </tr>\n",
       "    <tr>\n",
       "      <th>3</th>\n",
       "      <td>23087</td>\n",
       "      <td>Not Specified</td>\n",
       "      <td>0.01</td>\n",
       "      <td>5.68</td>\n",
       "      <td>3.60</td>\n",
       "      <td>3</td>\n",
       "      <td>Bonnie Potter</td>\n",
       "      <td>Regular Air</td>\n",
       "      <td>Corporate</td>\n",
       "      <td>Office Supplies</td>\n",
       "      <td>...</td>\n",
       "      <td>West</td>\n",
       "      <td>Washington</td>\n",
       "      <td>Anacortes</td>\n",
       "      <td>98221</td>\n",
       "      <td>7/27/2011</td>\n",
       "      <td>7/28/2011</td>\n",
       "      <td>-30.5100</td>\n",
       "      <td>7</td>\n",
       "      <td>41.64</td>\n",
       "      <td>88523</td>\n",
       "    </tr>\n",
       "    <tr>\n",
       "      <th>4</th>\n",
       "      <td>23088</td>\n",
       "      <td>Not Specified</td>\n",
       "      <td>0.00</td>\n",
       "      <td>205.99</td>\n",
       "      <td>2.50</td>\n",
       "      <td>3</td>\n",
       "      <td>Bonnie Potter</td>\n",
       "      <td>Express Air</td>\n",
       "      <td>Corporate</td>\n",
       "      <td>Technology</td>\n",
       "      <td>...</td>\n",
       "      <td>West</td>\n",
       "      <td>Washington</td>\n",
       "      <td>Anacortes</td>\n",
       "      <td>98221</td>\n",
       "      <td>7/27/2011</td>\n",
       "      <td>7/27/2011</td>\n",
       "      <td>998.2023</td>\n",
       "      <td>8</td>\n",
       "      <td>1446.67</td>\n",
       "      <td>88523</td>\n",
       "    </tr>\n",
       "  </tbody>\n",
       "</table>\n",
       "<p>5 rows × 24 columns</p>\n",
       "</div>"
      ],
      "text/plain": [
       "   Row ID Order Priority  Discount  Unit Price  Shipping Cost  Customer ID  \\\n",
       "0   18606  Not Specified      0.01        2.88           0.50            2   \n",
       "1   20847           High      0.01        2.84           0.93            3   \n",
       "2   23086  Not Specified      0.03        6.68           6.15            3   \n",
       "3   23087  Not Specified      0.01        5.68           3.60            3   \n",
       "4   23088  Not Specified      0.00      205.99           2.50            3   \n",
       "\n",
       "     Customer Name    Ship Mode Customer Segment Product Category  ...  \\\n",
       "0  Janice Fletcher  Regular Air        Corporate  Office Supplies  ...   \n",
       "1    Bonnie Potter  Express Air        Corporate  Office Supplies  ...   \n",
       "2    Bonnie Potter  Express Air        Corporate  Office Supplies  ...   \n",
       "3    Bonnie Potter  Regular Air        Corporate  Office Supplies  ...   \n",
       "4    Bonnie Potter  Express Air        Corporate       Technology  ...   \n",
       "\n",
       "    Region State or Province       City  Postal Code Order Date  Ship Date  \\\n",
       "0  Central          Illinois    Addison        60101  5/28/2012  5/30/2012   \n",
       "1     West        Washington  Anacortes        98221   7/7/2010   7/8/2010   \n",
       "2     West        Washington  Anacortes        98221  7/27/2011  7/28/2011   \n",
       "3     West        Washington  Anacortes        98221  7/27/2011  7/28/2011   \n",
       "4     West        Washington  Anacortes        98221  7/27/2011  7/27/2011   \n",
       "\n",
       "     Profit  Quantity ordered new    Sales Order ID  \n",
       "0    1.3200                     2     5.90    88525  \n",
       "1    4.5600                     4    13.01    88522  \n",
       "2  -47.6400                     7    49.92    88523  \n",
       "3  -30.5100                     7    41.64    88523  \n",
       "4  998.2023                     8  1446.67    88523  \n",
       "\n",
       "[5 rows x 24 columns]"
      ]
     },
     "execution_count": 10,
     "metadata": {},
     "output_type": "execute_result"
    }
   ],
   "source": [
    "import pandas as pd\n",
    "import mysql.connector\n",
    "\n",
    "mydb = mysql.connector.connect(\n",
    "  host=\"localhost\",\n",
    "  user=\"root\",\n",
    "  password=\"root\",\n",
    "  database=\"m1_ds2e\"\n",
    ")\n",
    "\n",
    "c = mydb.cursor()\n",
    "\n",
    "c.execute(\"SELECT * FROM sample_superstore\")\n",
    "\n",
    "docs = c.fetchall()\n",
    "\n",
    "columns = [description[0] for description in c.description]\n",
    "df = pd.DataFrame(docs, columns=columns)\n",
    "df.head()"
   ]
  },
  {
   "cell_type": "code",
   "execution_count": 8,
   "id": "dc27e69c-d072-4b36-9c65-d705203094f5",
   "metadata": {},
   "outputs": [
    {
     "data": {
      "text/plain": [
       "[(127,)]"
      ]
     },
     "execution_count": 8,
     "metadata": {},
     "output_type": "execute_result"
    }
   ],
   "source": [
    "c.execute(\"SELECT count(distinct `Order ID`) from sample_superstore\")\n",
    "c.fetchall()"
   ]
  },
  {
   "cell_type": "markdown",
   "id": "1b8c290a-1438-48ef-94f7-8014c49bee56",
   "metadata": {},
   "source": [
    "### 2) What is the total sales amount ?"
   ]
  },
  {
   "cell_type": "code",
   "execution_count": 11,
   "id": "4de1b121-bf58-4f02-ba39-9c50a3d7172d",
   "metadata": {},
   "outputs": [
    {
     "data": {
      "text/plain": [
       "[(130555.31000000006,)]"
      ]
     },
     "execution_count": 11,
     "metadata": {},
     "output_type": "execute_result"
    }
   ],
   "source": [
    "c.execute(\"SELECT sum(Sales) from sample_superstore\")\n",
    "c.fetchall()"
   ]
  },
  {
   "cell_type": "markdown",
   "id": "7f8456dd-8113-43bc-95e0-02b07a21beaf",
   "metadata": {},
   "source": [
    "### 3) What is the average profit per order?"
   ]
  },
  {
   "cell_type": "code",
   "execution_count": 15,
   "id": "7a4fbbdd-8a50-400f-a405-c2076d34ce95",
   "metadata": {
    "collapsed": true,
    "jupyter": {
     "outputs_hidden": true
    },
    "tags": []
   },
   "outputs": [
    {
     "data": {
      "text/plain": [
       "[(88525, 1.32),\n",
       " (88522, 4.56),\n",
       " (88523, 306.6841),\n",
       " (88524, 1388.0523),\n",
       " (88526, 1001.4453),\n",
       " (90193, 4390.3665),\n",
       " (90197, -141.26),\n",
       " (90194, 1045.4673),\n",
       " (90200, 406.7419),\n",
       " (90198, 72.9928),\n",
       " (90199, -252.67759875000002),\n",
       " (90195, 142.7955),\n",
       " (90192, -53.8096),\n",
       " (90196, 23.12),\n",
       " (86838, 185.425125),\n",
       " (86845, -44.54),\n",
       " (86837, -59.82),\n",
       " (86839, 261.8757),\n",
       " (86840, -1.17),\n",
       " (86841, -24.03),\n",
       " (86842, 23.2668),\n",
       " (86843, -174.2696),\n",
       " (86836, 327.68155),\n",
       " (86844, 3.4595),\n",
       " (90033, -6.82),\n",
       " (90034, -96.33),\n",
       " (90031, 314.4813),\n",
       " (90035, 164.48680000000002),\n",
       " (90038, -17.49),\n",
       " (90039, 139.54835),\n",
       " (90032, -114.6399),\n",
       " (90036, -491.73199999999997),\n",
       " (90037, -41.82),\n",
       " (41793, 384.38),\n",
       " (42949, -66.06495),\n",
       " (55269, -41.82),\n",
       " (9895, -6.82),\n",
       " (17860, -96.33),\n",
       " (26887, 172.27274999999997),\n",
       " (50533, -491.73199999999997),\n",
       " (18596, 174.845),\n",
       " (87655, 571.89495),\n",
       " (87660, 83.24),\n",
       " (87669, 353.77216),\n",
       " (87651, -16.802),\n",
       " (87656, 1489.8411),\n",
       " (87662, -23.415),\n",
       " (87663, -88.102),\n",
       " (87657, -10.58),\n",
       " (87666, 677.50343),\n",
       " (87658, 420.984),\n",
       " (87667, 19.4097),\n",
       " (87670, -24.118176000000002),\n",
       " (87652, 8.89400000000001),\n",
       " (87659, 149.84715),\n",
       " (87661, 33.4144),\n",
       " (87668, 847.943712),\n",
       " (87653, -2.2072),\n",
       " (87665, 28.81),\n",
       " (87654, -120.52304),\n",
       " (87664, -1.6864),\n",
       " (89206, -43.3316),\n",
       " (89199, 144.69),\n",
       " (89200, -35.8788),\n",
       " (89202, 209.997),\n",
       " (89203, 2568.096),\n",
       " (89207, 345.0),\n",
       " (89201, -30.062800000000003),\n",
       " (89205, -75.12168),\n",
       " (89208, -88.57148),\n",
       " (91256, 803.39986),\n",
       " (91257, 165.501),\n",
       " (88682, -3.3599999999999994),\n",
       " (88684, -15.464),\n",
       " (88683, -71.44),\n",
       " (91455, 24.1868),\n",
       " (91458, 43.271712),\n",
       " (91454, 25.91382),\n",
       " (91456, -17.58),\n",
       " (91457, -336.38464),\n",
       " (91578, 338.6244),\n",
       " (91579, -35.906),\n",
       " (87712, -4.359171999999999),\n",
       " (87713, 60.8097),\n",
       " (87714, 4.772579999999998),\n",
       " (87715, 229.0593),\n",
       " (87710, -12.82),\n",
       " (87711, 7.27),\n",
       " (87716, 391.7199),\n",
       " (87717, -45.1),\n",
       " (87718, 526.608),\n",
       " (87719, -24.08),\n",
       " (88426, 47.588),\n",
       " (88427, 378.1614),\n",
       " (88428, 3.328),\n",
       " (88425, -6923.5992),\n",
       " (88429, 23.1564),\n",
       " (88076, -1513.264896),\n",
       " (88077, -211.0644),\n",
       " (88081, 39.080775),\n",
       " (88075, 8.9879),\n",
       " (88079, 47.0972),\n",
       " (88080, -12.321250000000006),\n",
       " (88082, 3234.0946620000004),\n",
       " (88078, -143.8648),\n",
       " (87413, -47.910000000000004),\n",
       " (87416, -157.18),\n",
       " (87417, -675.62),\n",
       " (87410, -0.18520000000000003),\n",
       " (87420, -180.46656),\n",
       " (87409, 185.266),\n",
       " (87411, 77.372),\n",
       " (87412, 25.116),\n",
       " (87414, 28.59475),\n",
       " (87422, 303.4416),\n",
       " (87407, 2.14),\n",
       " (87408, 349.4091),\n",
       " (87415, 44.495),\n",
       " (87423, -103.96848),\n",
       " (87418, 574.96995),\n",
       " (87419, 247.26885),\n",
       " (87406, 31.980449999999998),\n",
       " (87421, -218.9761),\n",
       " (87948, 1381.9886999999999),\n",
       " (87951, 95.3787),\n",
       " (87946, 845.664),\n",
       " (87949, -770.6166000000001)]"
      ]
     },
     "execution_count": 15,
     "metadata": {},
     "output_type": "execute_result"
    }
   ],
   "source": [
    "c.execute(\"\"\"SELECT `Order ID`, avg(Profit) as moy \n",
    "          FROM sample_superstore \n",
    "          GROUP BY `Order ID`\"\"\")\n",
    "c.fetchall()"
   ]
  },
  {
   "cell_type": "markdown",
   "id": "876d1d76-ec2d-4c53-9771-e6b5fffa1887",
   "metadata": {},
   "source": [
    "### 4) Which customer has placed the most orders ?"
   ]
  },
  {
   "cell_type": "code",
   "execution_count": 21,
   "id": "d19c883d-ec3d-4a03-9f70-755ad7a89b27",
   "metadata": {
    "tags": []
   },
   "outputs": [
    {
     "data": {
      "text/plain": [
       "[(21,)]"
      ]
     },
     "execution_count": 21,
     "metadata": {},
     "output_type": "execute_result"
    }
   ],
   "source": [
    "c.execute(\"\"\"SELECT `Customer ID`\n",
    "             FROM sample_superstore \n",
    "             GROUP BY `Customer ID`\n",
    "             ORDER BY count(distinct `Order ID`) DESC\n",
    "             LIMIT 1\"\"\")\n",
    "c.fetchall()"
   ]
  },
  {
   "cell_type": "markdown",
   "id": "409d2da7-67a1-4456-8bf8-1087b5073f71",
   "metadata": {},
   "source": [
    "### 5) What is the total profit for each product category ?"
   ]
  },
  {
   "cell_type": "code",
   "execution_count": 22,
   "id": "406e8ba3-2076-4da4-a5a0-54d746034611",
   "metadata": {},
   "outputs": [
    {
     "data": {
      "text/plain": [
       "[('Office Supplies', 11605.983540000001),\n",
       " ('Technology', 10225.340091999999),\n",
       " ('Furniture', 1976.0725965000036)]"
      ]
     },
     "execution_count": 22,
     "metadata": {},
     "output_type": "execute_result"
    }
   ],
   "source": [
    "c.execute(\"\"\"SELECT `Product Category`, sum(Profit)\n",
    "             FROM sample_superstore \n",
    "             GROUP BY `Product Category`\"\"\")\n",
    "c.fetchall()"
   ]
  },
  {
   "cell_type": "markdown",
   "id": "df04d06b-db7b-4751-b083-43ef34e7dbc0",
   "metadata": {},
   "source": [
    "### 6) What is the average discount percentage ?"
   ]
  },
  {
   "cell_type": "code",
   "execution_count": 23,
   "id": "be2c5082-0136-43bd-970c-12a0bb41b30f",
   "metadata": {},
   "outputs": [
    {
     "data": {
      "text/plain": [
       "[(0.0496571428571428,)]"
      ]
     },
     "execution_count": 23,
     "metadata": {},
     "output_type": "execute_result"
    }
   ],
   "source": [
    "c.execute(\"\"\"SELECT avg(Discount)\n",
    "             FROM sample_superstore\"\"\")\n",
    "c.fetchall()"
   ]
  },
  {
   "cell_type": "markdown",
   "id": "8985235e-910d-4bc4-8b72-df6451163212",
   "metadata": {},
   "source": [
    "### 7) Which region has the highest total sales ?"
   ]
  },
  {
   "cell_type": "code",
   "execution_count": 24,
   "id": "c70f7cbe-a07d-48e9-ad34-b4f9eb4658e1",
   "metadata": {},
   "outputs": [
    {
     "data": {
      "text/plain": [
       "[('Central', 14261.619999999999),\n",
       " ('West', 75678.49999999999),\n",
       " ('East', 38033.84999999999),\n",
       " ('South', 2581.34)]"
      ]
     },
     "execution_count": 24,
     "metadata": {},
     "output_type": "execute_result"
    }
   ],
   "source": [
    "c.execute(\"\"\"SELECT Region, sum(Sales)\n",
    "             FROM sample_superstore\n",
    "             GROUP BY Region\"\"\")\n",
    "c.fetchall()"
   ]
  },
  {
   "cell_type": "markdown",
   "id": "d3f3fa0d-f61b-4583-9d2e-6966022bb021",
   "metadata": {},
   "source": [
    "### 8) How many orders were shipped using each shipping mode ?"
   ]
  },
  {
   "cell_type": "code",
   "execution_count": 31,
   "id": "59631611-5323-460b-a982-512a38d38101",
   "metadata": {},
   "outputs": [
    {
     "data": {
      "text/plain": [
       "[('Delivery Truck', 19), ('Express Air', 20), ('Regular Air', 100)]"
      ]
     },
     "execution_count": 31,
     "metadata": {},
     "output_type": "execute_result"
    }
   ],
   "source": [
    "c.execute(\"\"\"SELECT `Ship Mode`, count(distinct `Order ID`)\n",
    "             FROM sample_superstore\n",
    "             GROUP BY `Ship Mode`\"\"\")\n",
    "c.fetchall()"
   ]
  },
  {
   "cell_type": "markdown",
   "id": "85ed2d6c-f079-4aa2-8a2a-c87ccdd21093",
   "metadata": {},
   "source": [
    "### 9) What is the total quantity ordered for each product sub-category ?"
   ]
  },
  {
   "cell_type": "code",
   "execution_count": 33,
   "id": "a7ca9a95-b062-482e-8c56-ec05bf757cbf",
   "metadata": {},
   "outputs": [
    {
     "data": {
      "text/plain": [
       "[('Paper', 26),\n",
       " ('Pens & Art Supplies', 23),\n",
       " ('Telephones and Communication', 21),\n",
       " ('Appliances', 14),\n",
       " ('Office Furnishings', 13),\n",
       " ('Labels', 11),\n",
       " ('Office Machines', 10),\n",
       " ('Binders and Binder Accessories', 10),\n",
       " ('Chairs & Chairmats', 9),\n",
       " ('Storage & Organization', 8),\n",
       " ('Tables', 6),\n",
       " ('Rubber Bands', 6),\n",
       " ('Computer Peripherals', 6),\n",
       " ('Envelopes', 5),\n",
       " ('Scissors, Rulers and Trimmers', 3),\n",
       " ('Bookcases', 3),\n",
       " ('Copiers and Fax', 1)]"
      ]
     },
     "execution_count": 33,
     "metadata": {},
     "output_type": "execute_result"
    }
   ],
   "source": [
    "c.execute(\"\"\"SELECT `Product Sub-Category`, count(`Order ID`) as cnt\n",
    "             FROM sample_superstore\n",
    "             GROUP BY `Product Sub-Category`\n",
    "             ORDER BY cnt DESC\"\"\")\n",
    "c.fetchall()"
   ]
  },
  {
   "cell_type": "markdown",
   "id": "42bfa47f-0776-474d-8357-9231400cf8cc",
   "metadata": {},
   "source": [
    "### 10) Which product has the highest profit margin ?"
   ]
  },
  {
   "cell_type": "code",
   "execution_count": 35,
   "id": "3d9ff506-4086-4822-87e1-92b1782c06c1",
   "metadata": {},
   "outputs": [
    {
     "data": {
      "text/plain": [
       "[('Furniture', 0.5990322580645162)]"
      ]
     },
     "execution_count": 35,
     "metadata": {},
     "output_type": "execute_result"
    }
   ],
   "source": [
    "c.execute(\"\"\"SELECT `Product Category`, avg(`Product Base Margin`) as pbm\n",
    "             FROM sample_superstore\n",
    "             GROUP BY `Product Category`\n",
    "             ORDER BY pbm DESC\n",
    "             LIMIT 1\"\"\")\n",
    "c.fetchall()"
   ]
  },
  {
   "cell_type": "markdown",
   "id": "836bd2da-8717-41f2-8af6-9a095aee7534",
   "metadata": {},
   "source": [
    "### 11) What is the total sales amount for each year ?"
   ]
  },
  {
   "cell_type": "code",
   "execution_count": 41,
   "id": "2e40023b-ed86-4243-b679-495328b58493",
   "metadata": {},
   "outputs": [
    {
     "data": {
      "text/plain": [
       "[(2013, 48236.200000000004),\n",
       " (2012, 44893.209999999985),\n",
       " (2011, 12048.119999999997),\n",
       " (2010, 25377.779999999995)]"
      ]
     },
     "execution_count": 41,
     "metadata": {},
     "output_type": "execute_result"
    }
   ],
   "source": [
    "c.execute(\"\"\"SELECT YEAR(STR_TO_DATE(`Order Date`, '%m/%d/%Y')) as annee, sum(`Sales`)\n",
    "             FROM sample_superstore\n",
    "             GROUP BY annee\n",
    "             ORDER BY annee DESC\"\"\")\n",
    "c.fetchall()"
   ]
  },
  {
   "cell_type": "markdown",
   "id": "08730447-ef60-43ea-9db2-1ce6e60b7a35",
   "metadata": {},
   "source": [
    "### 12) Which customer segment has the highest average sales ?"
   ]
  },
  {
   "cell_type": "code",
   "execution_count": 42,
   "id": "07885537-6741-46f8-bb74-5665a15f854b",
   "metadata": {},
   "outputs": [
    {
     "data": {
      "text/plain": [
       "[('Small Business', 1041.5648076923078),\n",
       " ('Home Office', 868.6964705882353),\n",
       " ('Consumer', 856.5270588235293),\n",
       " ('Corporate', 528.821797752809)]"
      ]
     },
     "execution_count": 42,
     "metadata": {},
     "output_type": "execute_result"
    }
   ],
   "source": [
    "c.execute(\"\"\"SELECT `Customer Segment`, avg(`Sales`) as sls\n",
    "             FROM sample_superstore\n",
    "             GROUP BY `Customer Segment`\n",
    "             ORDER BY sls DESC\"\"\")\n",
    "c.fetchall()"
   ]
  },
  {
   "cell_type": "markdown",
   "id": "8777f054-d90b-4639-a21c-01dcf78146fd",
   "metadata": {},
   "source": [
    "## PostgreSQL"
   ]
  },
  {
   "cell_type": "code",
   "execution_count": 43,
   "id": "991b57c7-1d18-471a-982c-fbfc2dd8d82e",
   "metadata": {},
   "outputs": [
    {
     "data": {
      "text/html": [
       "<div>\n",
       "<style scoped>\n",
       "    .dataframe tbody tr th:only-of-type {\n",
       "        vertical-align: middle;\n",
       "    }\n",
       "\n",
       "    .dataframe tbody tr th {\n",
       "        vertical-align: top;\n",
       "    }\n",
       "\n",
       "    .dataframe thead th {\n",
       "        text-align: right;\n",
       "    }\n",
       "</style>\n",
       "<table border=\"1\" class=\"dataframe\">\n",
       "  <thead>\n",
       "    <tr style=\"text-align: right;\">\n",
       "      <th></th>\n",
       "      <th>age</th>\n",
       "      <th>job</th>\n",
       "      <th>marital</th>\n",
       "      <th>education</th>\n",
       "      <th>default_</th>\n",
       "      <th>balance</th>\n",
       "      <th>housing</th>\n",
       "      <th>loan</th>\n",
       "      <th>contact</th>\n",
       "      <th>day</th>\n",
       "      <th>month</th>\n",
       "      <th>duration</th>\n",
       "      <th>campaign</th>\n",
       "      <th>pdays</th>\n",
       "      <th>previous</th>\n",
       "      <th>poutcome</th>\n",
       "      <th>y</th>\n",
       "    </tr>\n",
       "  </thead>\n",
       "  <tbody>\n",
       "    <tr>\n",
       "      <th>0</th>\n",
       "      <td>58</td>\n",
       "      <td>management</td>\n",
       "      <td>married</td>\n",
       "      <td>tertiary</td>\n",
       "      <td>no</td>\n",
       "      <td>2143</td>\n",
       "      <td>yes</td>\n",
       "      <td>no</td>\n",
       "      <td>unknown</td>\n",
       "      <td>5</td>\n",
       "      <td>may</td>\n",
       "      <td>261</td>\n",
       "      <td>1</td>\n",
       "      <td>-1</td>\n",
       "      <td>0</td>\n",
       "      <td>unknown</td>\n",
       "      <td>no</td>\n",
       "    </tr>\n",
       "    <tr>\n",
       "      <th>1</th>\n",
       "      <td>44</td>\n",
       "      <td>technician</td>\n",
       "      <td>single</td>\n",
       "      <td>secondary</td>\n",
       "      <td>no</td>\n",
       "      <td>29</td>\n",
       "      <td>yes</td>\n",
       "      <td>no</td>\n",
       "      <td>unknown</td>\n",
       "      <td>5</td>\n",
       "      <td>may</td>\n",
       "      <td>151</td>\n",
       "      <td>1</td>\n",
       "      <td>-1</td>\n",
       "      <td>0</td>\n",
       "      <td>unknown</td>\n",
       "      <td>no</td>\n",
       "    </tr>\n",
       "    <tr>\n",
       "      <th>2</th>\n",
       "      <td>33</td>\n",
       "      <td>entrepreneur</td>\n",
       "      <td>married</td>\n",
       "      <td>secondary</td>\n",
       "      <td>no</td>\n",
       "      <td>2</td>\n",
       "      <td>yes</td>\n",
       "      <td>yes</td>\n",
       "      <td>unknown</td>\n",
       "      <td>5</td>\n",
       "      <td>may</td>\n",
       "      <td>76</td>\n",
       "      <td>1</td>\n",
       "      <td>-1</td>\n",
       "      <td>0</td>\n",
       "      <td>unknown</td>\n",
       "      <td>no</td>\n",
       "    </tr>\n",
       "    <tr>\n",
       "      <th>3</th>\n",
       "      <td>47</td>\n",
       "      <td>blue-collar</td>\n",
       "      <td>married</td>\n",
       "      <td>unknown</td>\n",
       "      <td>no</td>\n",
       "      <td>1506</td>\n",
       "      <td>yes</td>\n",
       "      <td>no</td>\n",
       "      <td>unknown</td>\n",
       "      <td>5</td>\n",
       "      <td>may</td>\n",
       "      <td>92</td>\n",
       "      <td>1</td>\n",
       "      <td>-1</td>\n",
       "      <td>0</td>\n",
       "      <td>unknown</td>\n",
       "      <td>no</td>\n",
       "    </tr>\n",
       "    <tr>\n",
       "      <th>4</th>\n",
       "      <td>33</td>\n",
       "      <td>unknown</td>\n",
       "      <td>single</td>\n",
       "      <td>unknown</td>\n",
       "      <td>no</td>\n",
       "      <td>1</td>\n",
       "      <td>no</td>\n",
       "      <td>no</td>\n",
       "      <td>unknown</td>\n",
       "      <td>5</td>\n",
       "      <td>may</td>\n",
       "      <td>198</td>\n",
       "      <td>1</td>\n",
       "      <td>-1</td>\n",
       "      <td>0</td>\n",
       "      <td>unknown</td>\n",
       "      <td>no</td>\n",
       "    </tr>\n",
       "  </tbody>\n",
       "</table>\n",
       "</div>"
      ],
      "text/plain": [
       "   age           job  marital  education default_  balance housing loan  \\\n",
       "0   58    management  married   tertiary       no     2143     yes   no   \n",
       "1   44    technician   single  secondary       no       29     yes   no   \n",
       "2   33  entrepreneur  married  secondary       no        2     yes  yes   \n",
       "3   47   blue-collar  married    unknown       no     1506     yes   no   \n",
       "4   33       unknown   single    unknown       no        1      no   no   \n",
       "\n",
       "   contact  day month  duration  campaign  pdays  previous poutcome   y  \n",
       "0  unknown    5   may       261         1     -1         0  unknown  no  \n",
       "1  unknown    5   may       151         1     -1         0  unknown  no  \n",
       "2  unknown    5   may        76         1     -1         0  unknown  no  \n",
       "3  unknown    5   may        92         1     -1         0  unknown  no  \n",
       "4  unknown    5   may       198         1     -1         0  unknown  no  "
      ]
     },
     "execution_count": 43,
     "metadata": {},
     "output_type": "execute_result"
    }
   ],
   "source": [
    "import pandas as pd\n",
    "\n",
    "df = pd.read_csv(\"C:/Users/Ju/OneDrive/Documents/FSEG/M1/NoSQL/bank_full.csv\")\n",
    "df.head()"
   ]
  },
  {
   "cell_type": "markdown",
   "id": "c16ed4d7-c020-4491-abcf-a39b5109bbcc",
   "metadata": {
    "tags": []
   },
   "source": [
    "### 1) What is the average age of the customers ?"
   ]
  },
  {
   "cell_type": "code",
   "execution_count": null,
   "id": "319e27b3-f1d9-425d-ba61-61a85fc1896b",
   "metadata": {},
   "outputs": [],
   "source": [
    "import psycopg2\n",
    "# Connect to PostgreSQL database\n",
    "conn = psycopg2.connect(dbname=\"new_db\", user=\"postgres\", password=\"root\", host=\"localhost\",  port=\"5050\" )\n",
    "cur = conn.cursor()\n",
    "cur.execute(\"\"\"SELECT avg(age) \n",
    "            FROM bank_full\"\"\")\n",
    "conn.fetchall()"
   ]
  },
  {
   "cell_type": "markdown",
   "id": "fe40164d-d5bd-4de6-a1f4-ff10378238cc",
   "metadata": {},
   "source": [
    "### 2) How many customers have defaulted on loans ?"
   ]
  },
  {
   "cell_type": "code",
   "execution_count": null,
   "id": "3e5e79e2-5b33-4fe3-94d2-9f24a69f2220",
   "metadata": {},
   "outputs": [],
   "source": [
    "cur.execute(\"\"\"SELECT count(*) \n",
    "            FROM bank_full \n",
    "            WHERE default_ = 'yes'\"\"\")\n",
    "conn.fetchall()"
   ]
  },
  {
   "cell_type": "markdown",
   "id": "cf644045-6d05-4f09-9163-910f6b728e5f",
   "metadata": {},
   "source": [
    "### 3) What is the maximum balance in the account ?"
   ]
  },
  {
   "cell_type": "code",
   "execution_count": null,
   "id": "1364730b-1d66-420b-927e-2db81795fce5",
   "metadata": {},
   "outputs": [],
   "source": [
    "cur.execute(\"\"\"SELECT max(balance) \n",
    "            FROM bank_full\"\"\")\n",
    "conn.fetchall()"
   ]
  },
  {
   "cell_type": "markdown",
   "id": "f8aa14bd-d777-441f-aa0e-87f6b77fd571",
   "metadata": {},
   "source": [
    "### 4) How many customers have a housing loan ?"
   ]
  },
  {
   "cell_type": "code",
   "execution_count": null,
   "id": "0a2f8339-618d-4075-a963-7852c0364df2",
   "metadata": {},
   "outputs": [],
   "source": [
    "cur.execute(\"\"\"SELECT count(*) \n",
    "               FROM bank_full \n",
    "               WHERE loan = 'yes' AND housing = 'yes'\"\"\")\n",
    "conn.fetchall()"
   ]
  },
  {
   "cell_type": "markdown",
   "id": "3e1e55db-69c1-4c10-ab9c-708d4a3e64cc",
   "metadata": {},
   "source": [
    "### 5) What is the education level of the youngest customer ?"
   ]
  },
  {
   "cell_type": "code",
   "execution_count": null,
   "id": "f0bfa002-be7a-4402-880b-ac555b2b1fc5",
   "metadata": {},
   "outputs": [],
   "source": [
    "cur.execute(\"\"\"SELECT education \n",
    "               FROM bank_full \n",
    "               ORDER BY age \n",
    "               LIMIT 1\"\"\")\n",
    "conn.fetchall()"
   ]
  },
  {
   "cell_type": "markdown",
   "id": "3984a0fc-a31e-4d86-8953-7b58d4a46f56",
   "metadata": {},
   "source": [
    "### 6) What is the marital status of the oldest customer ?"
   ]
  },
  {
   "cell_type": "code",
   "execution_count": null,
   "id": "a3ecd14b-b1b7-4166-b4d4-f0855b60ea3a",
   "metadata": {},
   "outputs": [],
   "source": [
    "cur.execute(\"\"\"SELECT marital \n",
    "               FROM bank_full \n",
    "               ORDER BY age DESC \n",
    "               LIMIT 1\"\"\")\n",
    "conn.fetchall()"
   ]
  },
  {
   "cell_type": "markdown",
   "id": "665b2d75-509b-4706-9036-69d35e82bd87",
   "metadata": {},
   "source": [
    "### 7) What is the distribution of the months in which customers were last contacted ?"
   ]
  },
  {
   "cell_type": "code",
   "execution_count": null,
   "id": "e4066842-673f-41ff-b963-3ebee33a752d",
   "metadata": {},
   "outputs": [],
   "source": [
    "cur.execute(\"\"\"SELECT month, count(contact) \n",
    "               FROM bank_full \n",
    "               GROUP BY month\"\"\")\n",
    "conn.fetchall()"
   ]
  },
  {
   "cell_type": "markdown",
   "id": "74cf5808-6b70-4191-8b3c-ababf81fd8aa",
   "metadata": {},
   "source": [
    "### 8) What is the average duration of contact for customers who have a personal loan ?"
   ]
  },
  {
   "cell_type": "code",
   "execution_count": null,
   "id": "e16d1d00-0b37-4bfc-94ce-a6b767d57567",
   "metadata": {},
   "outputs": [],
   "source": [
    "cur.execute(\"\"\"SELECT avg(duration) \n",
    "               FROM bank_full \n",
    "               WHERE loan = 'yes' AND housing = 'no'\"\"\")\n",
    "conn.fetchall()"
   ]
  },
  {
   "cell_type": "markdown",
   "id": "1de87b6b-f8f4-44a6-815d-cecc166dc0bc",
   "metadata": {},
   "source": [
    "### 9) How many customers were previously contacted, and what was the average duration of their last contact ?"
   ]
  },
  {
   "cell_type": "code",
   "execution_count": null,
   "id": "68235c40-1ed7-44ff-bd79-55c83a8945a7",
   "metadata": {},
   "outputs": [],
   "source": [
    "cur.execute(\"\"\"SELECT count(contact) as NUMBER, avg(duration) as DURATION \n",
    "               FROM bank_full \n",
    "               WHERE loan != 'unknown'\"\"\")\n",
    "conn.fetchall()"
   ]
  },
  {
   "cell_type": "markdown",
   "id": "f0bfda47-ef7b-489e-b932-d60ee8a770d6",
   "metadata": {},
   "source": [
    "### 10) What is the distribution of job types among customers ?"
   ]
  },
  {
   "cell_type": "code",
   "execution_count": null,
   "id": "720d3977-d52e-4fe2-9a10-249a7f1ad275",
   "metadata": {},
   "outputs": [],
   "source": [
    "cur.execute(\"\"\"SELECT job, count(*) \n",
    "               FROM bank_full \n",
    "               GROUP BY job\"\"\")\n",
    "conn.fetchall()"
   ]
  },
  {
   "cell_type": "markdown",
   "id": "7ad425b8-3e89-473b-b7eb-31a8c54b04d4",
   "metadata": {},
   "source": [
    "### 11) How many customers have been contacted more than once in the current campaign ?"
   ]
  },
  {
   "cell_type": "code",
   "execution_count": null,
   "id": "95083f1f-85bb-411b-aded-82ca4952e612",
   "metadata": {},
   "outputs": [],
   "source": [
    "cur.execute(\"\"\"SELECT count(*) \n",
    "               FROM bank_full \n",
    "               WHERE previous > 1\"\"\")\n",
    "conn.fetchall()"
   ]
  },
  {
   "cell_type": "markdown",
   "id": "f761c30a-8cac-402a-9426-a6c89337ca22",
   "metadata": {},
   "source": [
    "### 12) What is the success rate of previous marketing campaigns (poutcome) among customers"
   ]
  },
  {
   "cell_type": "code",
   "execution_count": null,
   "id": "9eacb682-0e60-45b8-9799-6634279a5e89",
   "metadata": {},
   "outputs": [],
   "source": [
    "cur.execute(\"\"\"SELECT \n",
    "               (CAST((SELECT COUNT(*) FROM bank_full WHERE y='yes') AS FLOAT) / \n",
    "                CAST((SELECT COUNT(*) FROM bank_full) AS FLOAT)) \n",
    "               AS ratio\"\"\")\n",
    "conn.fetchall()"
   ]
  }
 ],
 "metadata": {
  "kernelspec": {
   "display_name": "Python 3 (ipykernel)",
   "language": "python",
   "name": "python3"
  },
  "language_info": {
   "codemirror_mode": {
    "name": "ipython",
    "version": 3
   },
   "file_extension": ".py",
   "mimetype": "text/x-python",
   "name": "python",
   "nbconvert_exporter": "python",
   "pygments_lexer": "ipython3",
   "version": "3.11.7"
  }
 },
 "nbformat": 4,
 "nbformat_minor": 5
}
